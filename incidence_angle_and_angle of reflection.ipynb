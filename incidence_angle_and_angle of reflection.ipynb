{
 "cells": [
  {
   "cell_type": "markdown",
   "source": [
    "# 입사각과 반사각"
   ],
   "metadata": {
    "collapsed": false
   }
  },
  {
   "cell_type": "markdown",
   "source": [
    "어떤 평면으로 들어오는 파동이 경계면에서 반사될 때, 반사되는 파동의 방향과 평면의 법선이 이루는 각도를 반사각이라 한다.\n",
    "즉, 물이나 공기 같은 매질 속을 진행하는 파동이 다른 매질과의 경계면에 도달하면 반사될 수 있는데, 반사되는 파동의 방향과 경계면의 법선 사이의 각도를 말한다.\n",
    "\n",
    "다음 그림을 보자."
   ],
   "metadata": {
    "collapsed": false
   }
  },
  {
   "cell_type": "markdown",
   "source": [
    "![reflection pict.jpeg](data:image/jpeg;base64,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)"
   ],
   "metadata": {
    "collapsed": false
   }
  },
  {
   "cell_type": "markdown",
   "source": [
    "다음 그림에서 특별한 저항이 없는 한, 입사각의 크기와 반사각의 크기가 같은걸 알수 있다."
   ],
   "metadata": {
    "collapsed": false
   }
  },
  {
   "cell_type": "markdown",
   "source": [
    "## 기울기적 접근"
   ],
   "metadata": {
    "collapsed": false
   }
  },
  {
   "cell_type": "markdown",
   "source": [
    "빛이 입사하는 선을 함수라고 생각하면 반사하는 선도 함수라고 볼수 있다.\n",
    "빛이 시작하는 점을 (x1, y1)이라고 하고, 입사점을 (x2, y2)라고 하면,\n",
    "이 입사선의 함수식은 y = (y1 - y2 / x1 - x2)(x - x1) + y1 라고 말할수 있다.\n",
    "\n",
    "또한 반사선의 함수값은 위 (x1 , x2)를 y 축을 대칭으로 대칭이듕헌 점을 (-x1 , y1) 이라고 하면\n",
    "반사선의 함수식은 y = (y1 - y2 / -x1 -x2)(x + x1) + y1 라고 말할수 있다.\n",
    "\n",
    "그럼 위 함수를 프로그램으로 구현해보자."
   ],
   "metadata": {
    "collapsed": false
   }
  },
  {
   "cell_type": "code",
   "execution_count": 1,
   "outputs": [],
   "source": [
    "# imports\n",
    "import numpy as np"
   ],
   "metadata": {
    "collapsed": false,
    "pycharm": {
     "name": "#%%\n"
    }
   }
  },
  {
   "cell_type": "code",
   "execution_count": 14,
   "outputs": [],
   "source": [
    "class IncidenceAndReflection:\n",
    "\n",
    "    def set_first_point(self, first_x , first_y):\n",
    "        \"\"\"\n",
    "        빛이 시작하는 점 (x1 , y1)을 입력받습니다.\n",
    "        :param first_x:\n",
    "        :param first_y:\n",
    "        :return:\n",
    "        \"\"\"\n",
    "        self.first_x = first_x # 입사 시작점의 x 절편입니다.\n",
    "        self.first_y = first_y # 입사 시작점의 y 절편입니다.\n",
    "\n",
    "    def set_entry_point(self, entry_x = 0 , entry_y = 0):\n",
    "        \"\"\"\n",
    "        입사점(x2, y2)를 입력받습니다.\n",
    "        :param entry_x:\n",
    "        :param entry_y:\n",
    "        :return:\n",
    "        \"\"\"\n",
    "        self.entry_x = entry_x # 입사점의 x 좌표입니다.\n",
    "        self.entry_y = entry_y # 입사점의 y 좌표입니다.\n",
    "\n",
    "    def calculation(self):\n",
    "        self.incidence_gradient = (self.first_y - self.entry_y) / (self.first_x - self.entry_x) # 입사각의 일차함수의 기울기\n",
    "        self.incidence_y_intercept = self.incidence_gradient * -self.first_x + self.first_y # 입사각의 y절편입니다.\n",
    "        self.reflection_gradient = (self.first_y - self.entry_y) / (-self.first_x - self.entry_x)\n",
    "        self.reflection_y_intercept = self.reflection_gradient * self.first_x + self.first_y"
   ],
   "metadata": {
    "collapsed": false,
    "pycharm": {
     "name": "#%%\n"
    }
   }
  },
  {
   "cell_type": "code",
   "execution_count": 16,
   "outputs": [
    {
     "name": "stdout",
     "output_type": "stream",
     "text": [
      "1.0\n",
      "0.0\n",
      "-1.0\n",
      "0.0\n"
     ]
    }
   ],
   "source": [
    "IAR = IncidenceAndReflection()\n",
    "IAR.set_entry_point(0,0)\n",
    "IAR.set_first_point(2,2)\n",
    "IAR.calculation()\n",
    "print(IAR.incidence_gradient)\n",
    "print(IAR.incidence_y_intercept)\n",
    "print(IAR.reflection_gradient)\n",
    "print(IAR.reflection_y_intercept)"
   ],
   "metadata": {
    "collapsed": false,
    "pycharm": {
     "name": "#%%\n"
    }
   }
  },
  {
   "cell_type": "code",
   "execution_count": null,
   "outputs": [],
   "source": [],
   "metadata": {
    "collapsed": false,
    "pycharm": {
     "name": "#%%\n"
    }
   }
  },
  {
   "cell_type": "code",
   "execution_count": null,
   "outputs": [],
   "source": [],
   "metadata": {
    "collapsed": false,
    "pycharm": {
     "name": "#%%\n"
    }
   }
  }
 ],
 "metadata": {
  "kernelspec": {
   "display_name": "Python 3",
   "language": "python",
   "name": "python3"
  },
  "language_info": {
   "codemirror_mode": {
    "name": "ipython",
    "version": 2
   },
   "file_extension": ".py",
   "mimetype": "text/x-python",
   "name": "python",
   "nbconvert_exporter": "python",
   "pygments_lexer": "ipython2",
   "version": "2.7.6"
  }
 },
 "nbformat": 4,
 "nbformat_minor": 0
}